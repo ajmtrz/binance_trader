{
 "cells": [
  {
   "cell_type": "code",
   "execution_count": 19,
   "metadata": {},
   "outputs": [],
   "source": [
    "import os\n",
    "import time\n",
    "import gnupg\n",
    "import keyring\n",
    "import numpy as np\n",
    "import pandas as pd\n",
    "import matplotlib.pyplot as plt\n",
    "from binance.spot import Spot\n",
    "from scipy.optimize import minimize\n",
    "import warnings\n",
    "warnings.filterwarnings(\"ignore\")\n",
    "pd.set_option('display.float_format', lambda x: '%.4f' % x)"
   ]
  },
  {
   "cell_type": "code",
   "execution_count": 2,
   "metadata": {},
   "outputs": [],
   "source": [
    "gpg = gnupg.GPG()\n",
    "encrypted_file_path = os.path.expanduser('~/Repositorios/binance_trader/.env.gpg')\n",
    "with open(encrypted_file_path, 'rb') as file:\n",
    "    datos = gpg.decrypt_file(file, passphrase=keyring.get_password(\"GPG_Passphrase\", \"gpg_python\"))\n",
    "if datos.ok:\n",
    "    env_vars = dict(line.decode('utf-8').split('=', 1) for line in datos.data.splitlines())\n",
    "    api_key = env_vars.get('API_KEY')\n",
    "    secret_key = env_vars.get('SECRET_KEY')\n",
    "# Inicializa el cliente de Binance\n",
    "client = Spot(api_key, secret_key)"
   ]
  },
  {
   "cell_type": "code",
   "execution_count": 41,
   "metadata": {},
   "outputs": [],
   "source": [
    "def get_historical_data(symbols, interval='1w'):\n",
    "    data_frames = {}\n",
    "    \n",
    "    for symbol in symbols:\n",
    "        start_time = 0\n",
    "        data = []\n",
    "        \n",
    "        while True:\n",
    "            # Obtener datos de klines\n",
    "            klines = client.klines(symbol=symbol, interval=interval, limit=1000, startTime=start_time)\n",
    "            # Si no hay más datos, salir del bucle\n",
    "            if not klines:\n",
    "                break\n",
    "            for kline in klines:\n",
    "                data.append({\n",
    "                    'open_time': kline[0],\n",
    "                    'open': float(kline[1]),\n",
    "                    'high': float(kline[2]),\n",
    "                    'low': float(kline[3]),\n",
    "                    'close': float(kline[4]),\n",
    "                    'volume': float(kline[5]),\n",
    "                    'quote_asset_volume': float(kline[7]),\n",
    "                    'number_of_trades': kline[8],\n",
    "                    'taker_buy_base_asset_volume': float(kline[9]),\n",
    "                    'taker_buy_quote_asset_volume': float(kline[10])\n",
    "                })\n",
    "            # Actualizar start_time para la próxima solicitud\n",
    "            start_time = klines[-1][0] + 1\n",
    "        data_frames[symbol] = pd.DataFrame(data)\n",
    "    # Crear el dataframe multinivel\n",
    "    df_list = []\n",
    "    for symbol, df in data_frames.items():\n",
    "        df = df.set_index('open_time')\n",
    "        df.index = pd.to_datetime(df.index, unit='ms')\n",
    "        df.columns = pd.MultiIndex.from_product([[symbol], df.columns])\n",
    "        df_list.append(df)\n",
    "    final_df = pd.concat(df_list, axis=1)\n",
    "    return final_df\n",
    "# Descarga de datos de activos\n",
    "# Obtén información sobre el intercambio\n",
    "exchange_info = client.exchange_info()\n",
    "# Filtra los pares de trading contra USDT\n",
    "symbols = ['HBARUSDT', 'XRPUSDT']\n",
    "df = get_historical_data(symbols).dropna()\n"
   ]
  },
  {
   "cell_type": "code",
   "execution_count": 72,
   "metadata": {},
   "outputs": [
    {
     "data": {
      "text/plain": [
       "HBARUSDT   0.4694\n",
       "XRPUSDT    0.5306\n",
       "Name: 0.1078528610823511, dtype: float64"
      ]
     },
     "execution_count": 72,
     "metadata": {},
     "output_type": "execute_result"
    }
   ],
   "source": [
    "# Cálculo de la frontera eficiente\n",
    "def calculate_efficient_frontier(df_returns):\n",
    "    def portfolio_volatility(weights, cov_matrix):\n",
    "        return np.sqrt(np.dot(weights.T, np.dot(cov_matrix, weights)))\n",
    "    def portfolio_return(weights, expected_returns):\n",
    "        return np.dot(weights, expected_returns)\n",
    "    expected_returns = df_returns.mean()\n",
    "    cov_matrix = df_returns.cov()\n",
    "    symbols = df_returns.columns.to_list()\n",
    "    # Restricciones: la suma de los pesos debe ser 1\n",
    "    constraints = ({'type': 'eq', 'fun': lambda weights: np.sum(weights) - 1})\n",
    "    # Límites: los pesos deben estar entre 0 y 1\n",
    "    bounds = tuple((0, 1) for _ in range(len(symbols)))\n",
    "    # Optimizar la cartera para diferentes niveles de rendimiento esperado\n",
    "    target_returns = np.linspace(expected_returns.min(), expected_returns.max(), 50)\n",
    "    efficient_portfolios = []\n",
    "    sharpe_ratios = []\n",
    "    for target in target_returns:\n",
    "        constraints = ({'type': 'eq', 'fun': lambda weights: np.sum(weights) - 1},\n",
    "                    {'type': 'eq', 'fun': lambda weights: np.dot(weights, expected_returns) - target})\n",
    "        result = minimize(portfolio_volatility, len(symbols) * [1. / len(symbols),], args=(cov_matrix),\n",
    "                        method='SLSQP', bounds=bounds, constraints=constraints)\n",
    "        if result.success:\n",
    "            weights = result.x\n",
    "            ret = portfolio_return(weights, expected_returns)\n",
    "            vol = portfolio_volatility(weights, cov_matrix)\n",
    "            sharpe_ratios.append(ret / vol)\n",
    "            efficient_portfolios.append(result.x)\n",
    "    # Convertir resultados a un DataFrame para análisis\n",
    "    df_efficient_frontier = pd.DataFrame(efficient_portfolios, columns=symbols, index=sharpe_ratios)\n",
    "    return df_efficient_frontier.loc[df_efficient_frontier.index.max()]\n",
    "\n",
    "# Obtener datos históricos y calcular la frontera eficiente\n",
    "df_returns = df.xs('close', level=1, axis=1).pct_change().dropna()\n",
    "calculate_efficient_frontier(df_returns)"
   ]
  }
 ],
 "metadata": {
  "kernelspec": {
   "display_name": "base",
   "language": "python",
   "name": "python3"
  },
  "language_info": {
   "codemirror_mode": {
    "name": "ipython",
    "version": 3
   },
   "file_extension": ".py",
   "mimetype": "text/x-python",
   "name": "python",
   "nbconvert_exporter": "python",
   "pygments_lexer": "ipython3",
   "version": "3.10.14"
  }
 },
 "nbformat": 4,
 "nbformat_minor": 2
}
