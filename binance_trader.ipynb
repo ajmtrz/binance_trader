{
 "cells": [
  {
   "cell_type": "code",
   "execution_count": null,
   "metadata": {},
   "outputs": [],
   "source": [
    "import numpy as np"
   ]
  },
  {
   "cell_type": "code",
   "execution_count": 6,
   "metadata": {},
   "outputs": [],
   "source": [
    "import gnupg\n",
    "import keyring"
   ]
  },
  {
   "cell_type": "code",
   "execution_count": 7,
   "metadata": {},
   "outputs": [],
   "source": [
    "gpg = gnupg.GPG()\n",
    "with open('C:\\\\Users\\\\Administrador\\\\Repositorios\\\\binance_trader\\\\.env.gpg', 'rb') as file:\n",
    "    datos = gpg.decrypt_file(file, passphrase=keyring.get_password(\"GPG_Passphrase\", \"gpg_python\"))\n",
    "if datos.ok:\n",
    "    env_vars = dict(line.decode('utf-8').split('=', 1) for line in datos.data.splitlines())\n",
    "    api_key = env_vars.get('API_KEY')\n",
    "    secret_key = env_vars.get('SECRET_KEY')"
   ]
  },
  {
   "cell_type": "code",
   "execution_count": null,
   "metadata": {},
   "outputs": [],
   "source": []
  }
 ],
 "metadata": {
  "kernelspec": {
   "display_name": "base",
   "language": "python",
   "name": "python3"
  },
  "language_info": {
   "codemirror_mode": {
    "name": "ipython",
    "version": 3
   },
   "file_extension": ".py",
   "mimetype": "text/x-python",
   "name": "python",
   "nbconvert_exporter": "python",
   "pygments_lexer": "ipython3",
   "version": "3.10.8"
  }
 },
 "nbformat": 4,
 "nbformat_minor": 2
}
