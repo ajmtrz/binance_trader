{
 "cells": [
  {
   "cell_type": "code",
   "execution_count": 22,
   "metadata": {},
   "outputs": [],
   "source": [
    "import os\n",
    "import time\n",
    "import gnupg\n",
    "import keyring\n",
    "from binance.spot import Spot\n",
    "import numpy as np\n",
    "import pandas as pd"
   ]
  },
  {
   "cell_type": "code",
   "execution_count": 23,
   "metadata": {},
   "outputs": [],
   "source": [
    "gpg = gnupg.GPG()\n",
    "encrypted_file_path = os.path.expanduser('~/Repositorios/binance_trader/.env.gpg')\n",
    "with open(encrypted_file_path, 'rb') as file:\n",
    "    datos = gpg.decrypt_file(file, passphrase=keyring.get_password(\"GPG_Passphrase\", \"gpg_python\"))\n",
    "if datos.ok:\n",
    "    env_vars = dict(line.decode('utf-8').split('=', 1) for line in datos.data.splitlines())\n",
    "    api_key = env_vars.get('API_KEY')\n",
    "    secret_key = env_vars.get('SECRET_KEY')\n",
    "# Inicializa el cliente de Binance\n",
    "client = Spot(api_key, secret_key)"
   ]
  },
  {
   "cell_type": "code",
   "execution_count": 24,
   "metadata": {},
   "outputs": [],
   "source": [
    "# Obtén información sobre el intercambio\n",
    "exchange_info = client.exchange_info()\n",
    "# Filtra los pares de trading contra USDT\n",
    "usdt_pairs = [symbol['symbol'] for symbol in exchange_info['symbols'] if symbol['quoteAsset'] == 'USDT']"
   ]
  },
  {
   "cell_type": "code",
   "execution_count": 25,
   "metadata": {},
   "outputs": [],
   "source": [
    "def get_historical_data(symbols, interval='1d'):\n",
    "    data_frames = {}\n",
    "    \n",
    "    for symbol in symbols:\n",
    "        start_time = 0\n",
    "        data = []\n",
    "        \n",
    "        while True:\n",
    "            # Obtener datos de klines\n",
    "            klines = client.klines(symbol=symbol, interval=interval, limit=1000, startTime=start_time)\n",
    "            # Si no hay más datos, salir del bucle\n",
    "            if not klines:\n",
    "                break\n",
    "            for kline in klines:\n",
    "                data.append({\n",
    "                    'open_time': kline[0],\n",
    "                    'open': float(kline[1]),\n",
    "                    'high': float(kline[2]),\n",
    "                    'low': float(kline[3]),\n",
    "                    'close': float(kline[4]),\n",
    "                    'volume': float(kline[5]),\n",
    "                    'quote_asset_volume': float(kline[7]),\n",
    "                    'number_of_trades': kline[8],\n",
    "                    'taker_buy_base_asset_volume': float(kline[9]),\n",
    "                    'taker_buy_quote_asset_volume': float(kline[10])\n",
    "                })\n",
    "            # Actualizar start_time para la próxima solicitud\n",
    "            start_time = klines[-1][0] + 1\n",
    "        \n",
    "        data_frames[symbol] = pd.DataFrame(data)\n",
    "    # Crear el dataframe multinivel\n",
    "    df_list = []\n",
    "    for symbol, df in data_frames.items():\n",
    "        df = df.set_index('open_time')\n",
    "        df.index = pd.to_datetime(df.index, unit='ms')\n",
    "        df.columns = pd.MultiIndex.from_product([[symbol], df.columns])\n",
    "        df_list.append(df)\n",
    "    final_df = pd.concat(df_list, axis=1)\n",
    "    return final_df\n"
   ]
  },
  {
   "cell_type": "code",
   "execution_count": 35,
   "metadata": {},
   "outputs": [],
   "source": [
    "portfolio = ['XRPUSDT', 'DOTUSDT', 'LINKUSDT', 'HBARUSDT', 'XLMUSDT']\n",
    "df = get_historical_data(portfolio)\n",
    "df = df.dropna()"
   ]
  },
  {
   "cell_type": "code",
   "execution_count": null,
   "metadata": {},
   "outputs": [],
   "source": []
  }
 ],
 "metadata": {
  "kernelspec": {
   "display_name": "base",
   "language": "python",
   "name": "python3"
  },
  "language_info": {
   "codemirror_mode": {
    "name": "ipython",
    "version": 3
   },
   "file_extension": ".py",
   "mimetype": "text/x-python",
   "name": "python",
   "nbconvert_exporter": "python",
   "pygments_lexer": "ipython3",
   "version": "3.10.8"
  }
 },
 "nbformat": 4,
 "nbformat_minor": 2
}
